{
  "nbformat": 4,
  "nbformat_minor": 0,
  "metadata": {
    "colab": {
      "provenance": [],
      "authorship_tag": "ABX9TyP6vV5bXWL4NQgeX43w8KWs",
      "include_colab_link": true
    },
    "kernelspec": {
      "name": "python3",
      "display_name": "Python 3"
    },
    "language_info": {
      "name": "python"
    }
  },
  "cells": [
    {
      "cell_type": "markdown",
      "metadata": {
        "id": "view-in-github",
        "colab_type": "text"
      },
      "source": [
        "<a href=\"https://colab.research.google.com/github/sahiljagtap11/Airbnb-Data-Analysis/blob/main/Notes_Sahil_alma.ipynb\" target=\"_parent\"><img src=\"https://colab.research.google.com/assets/colab-badge.svg\" alt=\"Open In Colab\"/></a>"
      ]
    },
    {
      "cell_type": "markdown",
      "source": [
        "# This is my first colab NoteBook\n"
      ],
      "metadata": {
        "id": "QB9OchmAsjQW"
      }
    },
    {
      "cell_type": "markdown",
      "source": [
        "New Section"
      ],
      "metadata": {
        "id": "zZeSJOustSkf"
      }
    },
    {
      "cell_type": "code",
      "source": [
        "import numpy as np\n",
        "import pandas as pd\n",
        "import matplotlib.pyplot as plt\n"
      ],
      "metadata": {
        "id": "8ZnJqhczKvX9"
      },
      "execution_count": null,
      "outputs": []
    },
    {
      "cell_type": "code",
      "execution_count": null,
      "metadata": {
        "id": "1qaBiBuBsKbC",
        "colab": {
          "base_uri": "https://localhost:8080/",
          "height": 248
        },
        "outputId": "15e4d2d4-cdd5-4939-cf16-ee423257fd5e"
      },
      "outputs": [
        {
          "output_type": "display_data",
          "data": {
            "text/plain": [
              "<Figure size 432x288 with 1 Axes>"
            ],
            "image/png": "[encoded data removed]"
          },
          "metadata": {}
        }
      ],
      "source": [
        "fruit = ['guava','appy','banana','you','gigi']\n",
        "quant = [12,7,8,3,5]\n",
        "plt.pie(quant,labels = fruit,autopct = '%0.1f%%',colors = ['green','purple','red','blue','violet'])\n",
        "plt.show()"
      ]
    },
    {
      "cell_type": "code",
      "source": [
        "a = 2;\n",
        "b=4;\n",
        "c=8\n",
        "if a>b:\n",
        "  print(\"B is greater than A\")\n",
        "else:\n",
        "  print(\"fff\")"
      ],
      "metadata": {
        "id": "50LDfnHyKkL8",
        "outputId": "ea2e1af8-4ceb-45c9-a3cd-11824795a779",
        "colab": {
          "base_uri": "https://localhost:8080/"
        }
      },
      "execution_count": null,
      "outputs": [
        {
          "output_type": "stream",
          "name": "stdout",
          "text": [
            "fff\n"
          ]
        }
      ]
    },
    {
      "cell_type": "code",
      "source": [
        "if(a>b) & (a>c):\n",
        "  print(\"A is greatest\")\n",
        "elif(b>a) & (b>c):\n",
        "  print(\"B is greatest\")\n",
        "else:\n",
        "  print(\"C is great\")"
      ],
      "metadata": {
        "colab": {
          "base_uri": "https://localhost:8080/"
        },
        "id": "FK6TYumh1vSK",
        "outputId": "532f41b3-23d7-49ca-c378-4f44ad43e5da"
      },
      "execution_count": null,
      "outputs": [
        {
          "output_type": "stream",
          "name": "stdout",
          "text": [
            "C is great\n"
          ]
        }
      ]
    },
    {
      "cell_type": "code",
      "source": [
        "#if with tuple\n",
        "tup = ('a','b','c')\n",
        "if 't' in tup:\n",
        "  print('value is pr in tup')\n",
        "else:\n",
        "  print(\" not in tup\")\n"
      ],
      "metadata": {
        "id": "x2GJSBo34fdk",
        "outputId": "e6134a14-93e0-4364-d10b-d9fd2db7f4e4",
        "colab": {
          "base_uri": "https://localhost:8080/"
        }
      },
      "execution_count": null,
      "outputs": [
        {
          "output_type": "stream",
          "name": "stdout",
          "text": [
            " not in tup\n"
          ]
        }
      ]
    },
    {
      "cell_type": "code",
      "source": [
        "#if with list\n",
        "ll = ['r','rs','a']\n",
        "if  ll[2]=='a':\n",
        "   ll[2]='f'\n",
        "ll"
      ],
      "metadata": {
        "colab": {
          "base_uri": "https://localhost:8080/"
        },
        "id": "hOoU_AXf80qp",
        "outputId": "5b39bc62-1b62-4973-babd-ec0dba574766"
      },
      "execution_count": null,
      "outputs": [
        {
          "output_type": "execute_result",
          "data": {
            "text/plain": [
              "['r', 'rs', 'f']"
            ]
          },
          "metadata": {},
          "execution_count": 6
        }
      ]
    },
    {
      "cell_type": "code",
      "source": [
        "#if with dictinary\n",
        "dd = {'k':4,'r':3,'s':33}\n",
        "if dd['r']==3:\n",
        "  dd['r']=dd['r']+100\n",
        "dd"
      ],
      "metadata": {
        "colab": {
          "base_uri": "https://localhost:8080/"
        },
        "id": "C52iXNXv-Erb",
        "outputId": "abd7b02a-5c6a-49e6-a262-e35f43a11731"
      },
      "execution_count": null,
      "outputs": [
        {
          "output_type": "execute_result",
          "data": {
            "text/plain": [
              "{'k': 4, 'r': 103, 's': 33}"
            ]
          },
          "metadata": {},
          "execution_count": 7
        }
      ]
    },
    {
      "cell_type": "code",
      "source": [],
      "metadata": {
        "id": "RnB0_S9LAE4Y"
      },
      "execution_count": null,
      "outputs": []
    },
    {
      "cell_type": "code",
      "source": [],
      "metadata": {
        "id": "CLxKAol6BgPY"
      },
      "execution_count": null,
      "outputs": []
    }
  ]
}